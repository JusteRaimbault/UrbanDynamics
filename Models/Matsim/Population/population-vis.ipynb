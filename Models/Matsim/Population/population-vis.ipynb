{
 "cells": [
  {
   "cell_type": "code",
   "execution_count": 17,
   "metadata": {},
   "outputs": [
    {
     "name": "stderr",
     "output_type": "stream",
     "text": [
      "also installing the dependencies ‘RgoogleMaps’, ‘png’, ‘rjson’, ‘jpeg’, ‘bitops’\n",
      "\n",
      "Updating HTML index of packages in '.Library'\n",
      "Making 'packages.html' ... done\n"
     ]
    }
   ],
   "source": [
    "#install.packages(\"XML\") # cannot install XML package: why?\n",
    "install.packages(\"ggmap\")"
   ]
  },
  {
   "cell_type": "code",
   "execution_count": 20,
   "metadata": {},
   "outputs": [
    {
     "name": "stderr",
     "output_type": "stream",
     "text": [
      "Loading required package: ggplot2\n",
      "Google's Terms of Service: https://cloud.google.com/maps-platform/terms/.\n",
      "Please cite ggmap if you use it! See citation(\"ggmap\") for details.\n"
     ]
    }
   ],
   "source": [
    "library(ggmap)"
   ]
  },
  {
   "cell_type": "code",
   "execution_count": 2,
   "metadata": {},
   "outputs": [],
   "source": [
    "raw <- scan('data/Plans.xml',what='character',sep='\\n')"
   ]
  },
  {
   "cell_type": "code",
   "execution_count": 14,
   "metadata": {},
   "outputs": [],
   "source": [
    "# construct plan dataframe\n",
    "timeDec <- function(s){hms = strsplit(s,':');return(as.numeric(hms[[1]][1])+(as.numeric(hms[[1]][2])/60))}\n",
    "splitted = sapply(raw[grep(pattern = '<act ',raw)],function(s){strsplit(s,' ')})\n",
    "x = sapply(splitted,function(l){as.numeric(substring(l[3],4,nchar(l[3])-1))})\n",
    "y = sapply(splitted,function(l){as.numeric(substring(l[4],4,nchar(l[4])-1))})\n",
    "start = sapply(splitted,function(l){timeDec(substring(l[5],13,nchar(l[5])-1))})\n",
    "end = sapply(splitted,function(l){timeDec(substring(l[6],11,nchar(l[6])-1))})\n",
    "plans=data.frame(x=x,y=y,start=start,end=end)"
   ]
  },
  {
   "cell_type": "code",
   "execution_count": 22,
   "metadata": {},
   "outputs": [],
   "source": [
    "xmin=min(plans$x);xmax=max(plans$x);ymin=min(plans$y);ymax=max(plans$y)"
   ]
  },
  {
   "cell_type": "code",
   "execution_count": null,
   "metadata": {},
   "outputs": [],
   "source": [
    "map <- get_map(location = c(xmin,ymin,xmax,ymax),source=\"osm\")"
   ]
  },
  {
   "cell_type": "code",
   "execution_count": 27,
   "metadata": {},
   "outputs": [
    {
     "data": {
      "text/html": [
       "-3.39593152207314"
      ],
      "text/latex": [
       "-3.39593152207314"
      ],
      "text/markdown": [
       "-3.39593152207314"
      ],
      "text/plain": [
       "[1] -3.395932"
      ]
     },
     "metadata": {},
     "output_type": "display_data"
    },
    {
     "data": {
      "text/html": [
       "0.211470878924794"
      ],
      "text/latex": [
       "0.211470878924794"
      ],
      "text/markdown": [
       "0.211470878924794"
      ],
      "text/plain": [
       "[1] 0.2114709"
      ]
     },
     "metadata": {},
     "output_type": "display_data"
    },
    {
     "data": {
      "text/html": [
       "6.78768495516979e-05"
      ],
      "text/latex": [
       "6.78768495516979e-05"
      ],
      "text/markdown": [
       "6.78768495516979e-05"
      ],
      "text/plain": [
       "[1] 6.787685e-05"
      ]
     },
     "metadata": {},
     "output_type": "display_data"
    },
    {
     "data": {
      "text/html": [
       "51.8323509760485"
      ],
      "text/latex": [
       "51.8323509760485"
      ],
      "text/markdown": [
       "51.8323509760485"
      ],
      "text/plain": [
       "[1] 51.83235"
      ]
     },
     "metadata": {},
     "output_type": "display_data"
    }
   ],
   "source": [
    "xmin;xmax;ymin;ymax"
   ]
  },
  {
   "cell_type": "code",
   "execution_count": null,
   "metadata": {},
   "outputs": [],
   "source": []
  },
  {
   "cell_type": "code",
   "execution_count": 16,
   "metadata": {},
   "outputs": [
    {
     "data": {
      "text/html": [
       "<style>\n",
       ".list-inline {list-style: none; margin:0; padding: 0}\n",
       ".list-inline>li {display: inline-block}\n",
       ".list-inline>li:not(:last-child)::after {content: \"\\00b7\"; padding: 0 .5ex}\n",
       "</style>\n",
       "<ol class=list-inline><li>4183980</li><li>4</li></ol>\n"
      ],
      "text/latex": [
       "\\begin{enumerate*}\n",
       "\\item 4183980\n",
       "\\item 4\n",
       "\\end{enumerate*}\n"
      ],
      "text/markdown": [
       "1. 4183980\n",
       "2. 4\n",
       "\n",
       "\n"
      ],
      "text/plain": [
       "[1] 4183980       4"
      ]
     },
     "metadata": {},
     "output_type": "display_data"
    }
   ],
   "source": [
    "#tail(raw,n = 100)\n",
    "#head(plans)\n",
    "dim(plans)"
   ]
  },
  {
   "cell_type": "code",
   "execution_count": 21,
   "metadata": {},
   "outputs": [
    {
     "data": {
      "text/html": [
       "\n",
       "<table width=\"100%\" summary=\"page for get_map {ggmap}\"><tr><td>get_map {ggmap}</td><td style=\"text-align: right;\">R Documentation</td></tr></table>\n",
       "\n",
       "<h2>Grab a map.</h2>\n",
       "\n",
       "<h3>Description</h3>\n",
       "\n",
       "<p><code>get_map</code> is a smart wrapper that queries the Google Maps,\n",
       "OpenStreetMap, Stamen Maps or Naver Map servers for a map.\n",
       "</p>\n",
       "\n",
       "\n",
       "<h3>Usage</h3>\n",
       "\n",
       "<pre>\n",
       "get_map(location = c(lon = -95.3632715, lat = 29.7632836),\n",
       "  zoom = \"auto\", scale = \"auto\", maptype = c(\"terrain\",\n",
       "  \"terrain-background\", \"satellite\", \"roadmap\", \"hybrid\", \"toner\",\n",
       "  \"watercolor\", \"terrain-labels\", \"terrain-lines\", \"toner-2010\",\n",
       "  \"toner-2011\", \"toner-background\", \"toner-hybrid\", \"toner-labels\",\n",
       "  \"toner-lines\", \"toner-lite\"), source = c(\"google\", \"osm\", \"stamen\"),\n",
       "  force = ifelse(source == \"google\", TRUE, FALSE), messaging = FALSE,\n",
       "  urlonly = FALSE, filename = NULL, crop = TRUE, color = c(\"color\",\n",
       "  \"bw\"), language = \"en-EN\", ...)\n",
       "</pre>\n",
       "\n",
       "\n",
       "<h3>Arguments</h3>\n",
       "\n",
       "<table summary=\"R argblock\">\n",
       "<tr valign=\"top\"><td><code>location</code></td>\n",
       "<td>\n",
       "<p>an address, longitude/latitude pair (in that order), or\n",
       "left/bottom/right/top bounding box</p>\n",
       "</td></tr>\n",
       "<tr valign=\"top\"><td><code>zoom</code></td>\n",
       "<td>\n",
       "<p>map zoom, an integer from 3 (continent) to 21 (building), default\n",
       "value 10 (city).  openstreetmaps limits a zoom of 18, and the limit on\n",
       "stamen maps depends on the maptype.  &quot;auto&quot; automatically determines the\n",
       "zoom for bounding box specifications, and is defaulted to 10 with\n",
       "center/zoom specifications.  maps of the whole world currently not\n",
       "supported.</p>\n",
       "</td></tr>\n",
       "<tr valign=\"top\"><td><code>scale</code></td>\n",
       "<td>\n",
       "<p>scale argument of <code>get_googlemap</code> or\n",
       "<code>get_openstreetmap</code></p>\n",
       "</td></tr>\n",
       "<tr valign=\"top\"><td><code>maptype</code></td>\n",
       "<td>\n",
       "<p>character string providing map theme. options available are\n",
       "&quot;terrain&quot;, &quot;terrain-background&quot;, &quot;satellite&quot;, &quot;roadmap&quot;, and &quot;hybrid&quot;\n",
       "(google maps), &quot;terrain&quot;, &quot;watercolor&quot;, and &quot;toner&quot; (stamen maps), or a\n",
       "positive integer for cloudmade maps (see ?get_cloudmademap)</p>\n",
       "</td></tr>\n",
       "<tr valign=\"top\"><td><code>source</code></td>\n",
       "<td>\n",
       "<p>Google Maps (&quot;google&quot;), OpenStreetMap (&quot;osm&quot;), Stamen Maps\n",
       "(&quot;stamen&quot;)</p>\n",
       "</td></tr>\n",
       "<tr valign=\"top\"><td><code>force</code></td>\n",
       "<td>\n",
       "<p>force new map (don't use archived version)</p>\n",
       "</td></tr>\n",
       "<tr valign=\"top\"><td><code>messaging</code></td>\n",
       "<td>\n",
       "<p>turn messaging on/off</p>\n",
       "</td></tr>\n",
       "<tr valign=\"top\"><td><code>urlonly</code></td>\n",
       "<td>\n",
       "<p>return url only</p>\n",
       "</td></tr>\n",
       "<tr valign=\"top\"><td><code>filename</code></td>\n",
       "<td>\n",
       "<p>destination file for download (file extension added according\n",
       "to format). Default <code>NULL</code> means a random <code>tempfile</code>.</p>\n",
       "</td></tr>\n",
       "<tr valign=\"top\"><td><code>crop</code></td>\n",
       "<td>\n",
       "<p>(stamen and cloudmade maps) crop tiles to bounding box</p>\n",
       "</td></tr>\n",
       "<tr valign=\"top\"><td><code>color</code></td>\n",
       "<td>\n",
       "<p>color (&quot;color&quot;) or black-and-white (&quot;bw&quot;)</p>\n",
       "</td></tr>\n",
       "<tr valign=\"top\"><td><code>language</code></td>\n",
       "<td>\n",
       "<p>language for google maps</p>\n",
       "</td></tr>\n",
       "<tr valign=\"top\"><td><code>...</code></td>\n",
       "<td>\n",
       "<p>...</p>\n",
       "</td></tr>\n",
       "</table>\n",
       "\n",
       "\n",
       "<h3>Value</h3>\n",
       "\n",
       "<p>a ggmap object (a classed raster object with a bounding box\n",
       "attribute)\n",
       "</p>\n",
       "\n",
       "\n",
       "<h3>Author(s)</h3>\n",
       "\n",
       "<p>David Kahle <a href=\"mailto:david.kahle@gmail.com\">david.kahle@gmail.com</a>\n",
       "</p>\n",
       "\n",
       "\n",
       "<h3>See Also</h3>\n",
       "\n",
       "<p><code>ggmap</code>, <code>GetMap</code> in package RgoogleMaps\n",
       "</p>\n",
       "\n",
       "\n",
       "<h3>Examples</h3>\n",
       "\n",
       "<pre>\n",
       "\n",
       "## Not run:  some requires Google API key, see ?register_google\n",
       "\n",
       "## basic usage\n",
       "########################################\n",
       "\n",
       "# lon-lat vectors automatically use google:\n",
       "(map &lt;- get_map(c(-97.14667, 31.5493)))\n",
       "str(map)\n",
       "ggmap(map)\n",
       "\n",
       "# bounding boxes default to stamen\n",
       "(map &lt;- get_map(c(left = -97.1268, bottom = 31.536245, right = -97.099334, top = 31.559652)))\n",
       "ggmap(map)\n",
       "\n",
       "# characters default to google\n",
       "(map &lt;- get_map(\"orlando, florida\"))\n",
       "ggmap(map)\n",
       "\n",
       "\n",
       "## basic usage\n",
       "########################################\n",
       "\n",
       "(map &lt;- get_map(maptype = \"roadmap\"))\n",
       "(map &lt;- get_map(source = \"osm\"))\n",
       "(map &lt;- get_map(source = \"stamen\", maptype = \"watercolor\"))\n",
       "\n",
       "map &lt;- get_map(location = \"texas\", zoom = 6, source = \"stamen\")\n",
       "ggmap(map, fullpage = TRUE)\n",
       "\n",
       "\n",
       "## End(Not run)\n",
       "</pre>\n",
       "\n",
       "<hr /><div style=\"text-align: center;\">[Package <em>ggmap</em> version 3.0.0 ]</div>"
      ],
      "text/latex": [
       "\\inputencoding{utf8}\n",
       "\\HeaderA{get\\_map}{Grab a map.}{get.Rul.map}\n",
       "%\n",
       "\\begin{Description}\\relax\n",
       "\\code{get\\_map} is a smart wrapper that queries the Google Maps,\n",
       "OpenStreetMap, Stamen Maps or Naver Map servers for a map.\n",
       "\\end{Description}\n",
       "%\n",
       "\\begin{Usage}\n",
       "\\begin{verbatim}\n",
       "get_map(location = c(lon = -95.3632715, lat = 29.7632836),\n",
       "  zoom = \"auto\", scale = \"auto\", maptype = c(\"terrain\",\n",
       "  \"terrain-background\", \"satellite\", \"roadmap\", \"hybrid\", \"toner\",\n",
       "  \"watercolor\", \"terrain-labels\", \"terrain-lines\", \"toner-2010\",\n",
       "  \"toner-2011\", \"toner-background\", \"toner-hybrid\", \"toner-labels\",\n",
       "  \"toner-lines\", \"toner-lite\"), source = c(\"google\", \"osm\", \"stamen\"),\n",
       "  force = ifelse(source == \"google\", TRUE, FALSE), messaging = FALSE,\n",
       "  urlonly = FALSE, filename = NULL, crop = TRUE, color = c(\"color\",\n",
       "  \"bw\"), language = \"en-EN\", ...)\n",
       "\\end{verbatim}\n",
       "\\end{Usage}\n",
       "%\n",
       "\\begin{Arguments}\n",
       "\\begin{ldescription}\n",
       "\\item[\\code{location}] an address, longitude/latitude pair (in that order), or\n",
       "left/bottom/right/top bounding box\n",
       "\n",
       "\\item[\\code{zoom}] map zoom, an integer from 3 (continent) to 21 (building), default\n",
       "value 10 (city).  openstreetmaps limits a zoom of 18, and the limit on\n",
       "stamen maps depends on the maptype.  \"auto\" automatically determines the\n",
       "zoom for bounding box specifications, and is defaulted to 10 with\n",
       "center/zoom specifications.  maps of the whole world currently not\n",
       "supported.\n",
       "\n",
       "\\item[\\code{scale}] scale argument of \\code{\\LinkA{get\\_googlemap}{get.Rul.googlemap}} or\n",
       "\\code{\\LinkA{get\\_openstreetmap}{get.Rul.openstreetmap}}\n",
       "\n",
       "\\item[\\code{maptype}] character string providing map theme. options available are\n",
       "\"terrain\", \"terrain-background\", \"satellite\", \"roadmap\", and \"hybrid\"\n",
       "(google maps), \"terrain\", \"watercolor\", and \"toner\" (stamen maps), or a\n",
       "positive integer for cloudmade maps (see ?get\\_cloudmademap)\n",
       "\n",
       "\\item[\\code{source}] Google Maps (\"google\"), OpenStreetMap (\"osm\"), Stamen Maps\n",
       "(\"stamen\")\n",
       "\n",
       "\\item[\\code{force}] force new map (don't use archived version)\n",
       "\n",
       "\\item[\\code{messaging}] turn messaging on/off\n",
       "\n",
       "\\item[\\code{urlonly}] return url only\n",
       "\n",
       "\\item[\\code{filename}] destination file for download (file extension added according\n",
       "to format). Default \\code{NULL} means a random \\code{\\LinkA{tempfile}{tempfile}}.\n",
       "\n",
       "\\item[\\code{crop}] (stamen and cloudmade maps) crop tiles to bounding box\n",
       "\n",
       "\\item[\\code{color}] color (\"color\") or black-and-white (\"bw\")\n",
       "\n",
       "\\item[\\code{language}] language for google maps\n",
       "\n",
       "\\item[\\code{...}] ...\n",
       "\\end{ldescription}\n",
       "\\end{Arguments}\n",
       "%\n",
       "\\begin{Value}\n",
       "a ggmap object (a classed raster object with a bounding box\n",
       "attribute)\n",
       "\\end{Value}\n",
       "%\n",
       "\\begin{Author}\\relax\n",
       "David Kahle \\email{david.kahle@gmail.com}\n",
       "\\end{Author}\n",
       "%\n",
       "\\begin{SeeAlso}\\relax\n",
       "\\code{\\LinkA{ggmap}{ggmap}}, \\code{\\LinkA{GetMap}{GetMap}} in package RgoogleMaps\n",
       "\\end{SeeAlso}\n",
       "%\n",
       "\\begin{Examples}\n",
       "\\begin{ExampleCode}\n",
       "\n",
       "## Not run:  some requires Google API key, see ?register_google\n",
       "\n",
       "## basic usage\n",
       "########################################\n",
       "\n",
       "# lon-lat vectors automatically use google:\n",
       "(map <- get_map(c(-97.14667, 31.5493)))\n",
       "str(map)\n",
       "ggmap(map)\n",
       "\n",
       "# bounding boxes default to stamen\n",
       "(map <- get_map(c(left = -97.1268, bottom = 31.536245, right = -97.099334, top = 31.559652)))\n",
       "ggmap(map)\n",
       "\n",
       "# characters default to google\n",
       "(map <- get_map(\"orlando, florida\"))\n",
       "ggmap(map)\n",
       "\n",
       "\n",
       "## basic usage\n",
       "########################################\n",
       "\n",
       "(map <- get_map(maptype = \"roadmap\"))\n",
       "(map <- get_map(source = \"osm\"))\n",
       "(map <- get_map(source = \"stamen\", maptype = \"watercolor\"))\n",
       "\n",
       "map <- get_map(location = \"texas\", zoom = 6, source = \"stamen\")\n",
       "ggmap(map, fullpage = TRUE)\n",
       "\n",
       "\n",
       "## End(Not run)\n",
       "\\end{ExampleCode}\n",
       "\\end{Examples}"
      ],
      "text/plain": [
       "get_map                 package:ggmap                  R Documentation\n",
       "\n",
       "_\bG_\br_\ba_\bb _\ba _\bm_\ba_\bp.\n",
       "\n",
       "_\bD_\be_\bs_\bc_\br_\bi_\bp_\bt_\bi_\bo_\bn:\n",
       "\n",
       "     ‘get_map’ is a smart wrapper that queries the Google Maps,\n",
       "     OpenStreetMap, Stamen Maps or Naver Map servers for a map.\n",
       "\n",
       "_\bU_\bs_\ba_\bg_\be:\n",
       "\n",
       "     get_map(location = c(lon = -95.3632715, lat = 29.7632836),\n",
       "       zoom = \"auto\", scale = \"auto\", maptype = c(\"terrain\",\n",
       "       \"terrain-background\", \"satellite\", \"roadmap\", \"hybrid\", \"toner\",\n",
       "       \"watercolor\", \"terrain-labels\", \"terrain-lines\", \"toner-2010\",\n",
       "       \"toner-2011\", \"toner-background\", \"toner-hybrid\", \"toner-labels\",\n",
       "       \"toner-lines\", \"toner-lite\"), source = c(\"google\", \"osm\", \"stamen\"),\n",
       "       force = ifelse(source == \"google\", TRUE, FALSE), messaging = FALSE,\n",
       "       urlonly = FALSE, filename = NULL, crop = TRUE, color = c(\"color\",\n",
       "       \"bw\"), language = \"en-EN\", ...)\n",
       "     \n",
       "_\bA_\br_\bg_\bu_\bm_\be_\bn_\bt_\bs:\n",
       "\n",
       "location: an address, longitude/latitude pair (in that order), or\n",
       "          left/bottom/right/top bounding box\n",
       "\n",
       "    zoom: map zoom, an integer from 3 (continent) to 21 (building),\n",
       "          default value 10 (city).  openstreetmaps limits a zoom of 18,\n",
       "          and the limit on stamen maps depends on the maptype.  \"auto\"\n",
       "          automatically determines the zoom for bounding box\n",
       "          specifications, and is defaulted to 10 with center/zoom\n",
       "          specifications.  maps of the whole world currently not\n",
       "          supported.\n",
       "\n",
       "   scale: scale argument of ‘get_googlemap’ or ‘get_openstreetmap’\n",
       "\n",
       " maptype: character string providing map theme. options available are\n",
       "          \"terrain\", \"terrain-background\", \"satellite\", \"roadmap\", and\n",
       "          \"hybrid\" (google maps), \"terrain\", \"watercolor\", and \"toner\"\n",
       "          (stamen maps), or a positive integer for cloudmade maps (see\n",
       "          ?get_cloudmademap)\n",
       "\n",
       "  source: Google Maps (\"google\"), OpenStreetMap (\"osm\"), Stamen Maps\n",
       "          (\"stamen\")\n",
       "\n",
       "   force: force new map (don't use archived version)\n",
       "\n",
       "messaging: turn messaging on/off\n",
       "\n",
       " urlonly: return url only\n",
       "\n",
       "filename: destination file for download (file extension added according\n",
       "          to format). Default ‘NULL’ means a random ‘tempfile’.\n",
       "\n",
       "    crop: (stamen and cloudmade maps) crop tiles to bounding box\n",
       "\n",
       "   color: color (\"color\") or black-and-white (\"bw\")\n",
       "\n",
       "language: language for google maps\n",
       "\n",
       "     ...: ...\n",
       "\n",
       "_\bV_\ba_\bl_\bu_\be:\n",
       "\n",
       "     a ggmap object (a classed raster object with a bounding box\n",
       "     attribute)\n",
       "\n",
       "_\bA_\bu_\bt_\bh_\bo_\br(_\bs):\n",
       "\n",
       "     David Kahle <email: david.kahle@gmail.com>\n",
       "\n",
       "_\bS_\be_\be _\bA_\bl_\bs_\bo:\n",
       "\n",
       "     ‘ggmap’, ‘GetMap’ in package RgoogleMaps\n",
       "\n",
       "_\bE_\bx_\ba_\bm_\bp_\bl_\be_\bs:\n",
       "\n",
       "     ## Not run:\n",
       "      some requires Google API key, see ?register_google\n",
       "     \n",
       "     ## basic usage\n",
       "     ########################################\n",
       "     \n",
       "     # lon-lat vectors automatically use google:\n",
       "     (map <- get_map(c(-97.14667, 31.5493)))\n",
       "     str(map)\n",
       "     ggmap(map)\n",
       "     \n",
       "     # bounding boxes default to stamen\n",
       "     (map <- get_map(c(left = -97.1268, bottom = 31.536245, right = -97.099334, top = 31.559652)))\n",
       "     ggmap(map)\n",
       "     \n",
       "     # characters default to google\n",
       "     (map <- get_map(\"orlando, florida\"))\n",
       "     ggmap(map)\n",
       "     \n",
       "     \n",
       "     ## basic usage\n",
       "     ########################################\n",
       "     \n",
       "     (map <- get_map(maptype = \"roadmap\"))\n",
       "     (map <- get_map(source = \"osm\"))\n",
       "     (map <- get_map(source = \"stamen\", maptype = \"watercolor\"))\n",
       "     \n",
       "     map <- get_map(location = \"texas\", zoom = 6, source = \"stamen\")\n",
       "     ggmap(map, fullpage = TRUE)\n",
       "     ## End(Not run)\n",
       "     "
      ]
     },
     "metadata": {},
     "output_type": "display_data"
    }
   ],
   "source": [
    "help(get_map)"
   ]
  },
  {
   "cell_type": "code",
   "execution_count": null,
   "metadata": {},
   "outputs": [],
   "source": []
  }
 ],
 "metadata": {
  "kernelspec": {
   "display_name": "R",
   "language": "R",
   "name": "ir"
  },
  "language_info": {
   "codemirror_mode": "r",
   "file_extension": ".r",
   "mimetype": "text/x-r-source",
   "name": "R",
   "pygments_lexer": "r",
   "version": "3.5.1"
  }
 },
 "nbformat": 4,
 "nbformat_minor": 4
}
